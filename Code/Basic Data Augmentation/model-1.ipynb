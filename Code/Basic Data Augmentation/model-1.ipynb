{
 "cells": [
  {
   "cell_type": "markdown",
   "metadata": {},
   "source": [
    "# Kaggle Stuff\n",
    "Kaggle has a time limit of an hour so a callback function is used. "
   ]
  },
  {
   "cell_type": "code",
   "execution_count": 1,
   "metadata": {},
   "outputs": [
    {
     "name": "stderr",
     "output_type": "stream",
     "text": [
      "Using TensorFlow backend.\n"
     ]
    }
   ],
   "source": [
    "import time \n",
    "\n",
    "#let's also import the abstract base class for our callback\n",
    "from keras.callbacks import Callback\n",
    "\n",
    "#defining the callback\n",
    "class TimerCallback(Callback):\n",
    "    \n",
    "    def __init__(self, maxExecutionTime, byBatch = False, on_interrupt=None):\n",
    "        \n",
    "        \n",
    "        self.maxExecutionTime = maxExecutionTime * 60\n",
    "        self.on_interrupt = on_interrupt\n",
    "        \n",
    "        #the same handler is used for checking each batch or each epoch\n",
    "        if byBatch == True:\n",
    "            #on_batch_end is called by keras every time a batch finishes\n",
    "            self.on_batch_end = self.on_end_handler\n",
    "        else:\n",
    "            #on_epoch_end is called by keras every time an epoch finishes\n",
    "            self.on_epoch_end = self.on_end_handler\n",
    "    \n",
    "    \n",
    "    #Keras will call this when training begins\n",
    "    def on_train_begin(self, logs):\n",
    "        self.startTime = time.time()\n",
    "        self.longestTime = 0            #time taken by the longest epoch or batch\n",
    "        self.lastTime = self.startTime  #time when the last trained epoch or batch was finished\n",
    "    \n",
    "    \n",
    "    #this is our custom handler that will be used in place of the keras methods:\n",
    "        #`on_batch_end(batch,logs)` or `on_epoch_end(epoch,logs)`\n",
    "    def on_end_handler(self, index, logs):\n",
    "        \n",
    "        currentTime      = time.time()                           \n",
    "        self.elapsedTime = currentTime - self.startTime    #total time taken until now\n",
    "        thisTime         = currentTime - self.lastTime     #time taken for the current epoch\n",
    "                                                               #or batch to finish\n",
    "        \n",
    "        self.lastTime = currentTime\n",
    "        \n",
    "        #verifications will be made based on the longest epoch or batch\n",
    "        if thisTime > self.longestTime:\n",
    "            self.longestTime = thisTime\n",
    "        \n",
    "        \n",
    "        #if the (assumed) time taken by the next epoch or batch is greater than the\n",
    "            #remaining time, stop training\n",
    "        remainingTime = self.maxExecutionTime - self.elapsedTime\n",
    "        if remainingTime < self.longestTime:\n",
    "            \n",
    "            self.model.stop_training = True  #this tells Keras to not continue training\n",
    "            print(\"\\n\\nTimerCallback: Finishing model training before it takes too much time. (Elapsed time: \" + str(self.elapsedTime/60.) + \" minutes )\\n\\n\")\n",
    "            \n",
    "            #if we have passed the `on_interrupt` callback, call it here\n",
    "            if self.on_interrupt is not None:\n",
    "                self.on_interrupt(self.model, self.elapsedTime)"
   ]
  },
  {
   "cell_type": "code",
   "execution_count": 2,
   "metadata": {
    "_cell_guid": "b1076dfc-b9ad-4769-8c92-a6c4dae69d19",
    "_uuid": "8f2839f25d086af736a60e9eeb907d3b93b6e0e5"
   },
   "outputs": [],
   "source": [
    "%matplotlib inline\n",
    "import datetime as dt\n",
    "import matplotlib\n",
    "import matplotlib.pyplot as plt\n",
    "plt.rcParams['figure.figsize'] = [16, 10]\n",
    "plt.rcParams['font.size'] = 16\n",
    "import numpy as np\n",
    "import os\n",
    "import pandas as pd\n",
    "import seaborn as sns\n",
    "from keras.applications import xception\n",
    "from keras.preprocessing import image\n",
    "from mpl_toolkits.axes_grid1 import ImageGrid\n",
    "from sklearn.linear_model import LogisticRegression\n",
    "from sklearn.metrics import accuracy_score, confusion_matrix\n",
    "from tqdm import tqdm\n",
    "\n",
    "from glob import glob\n",
    "import math\n",
    "import cv2"
   ]
  },
  {
   "cell_type": "markdown",
   "metadata": {},
   "source": [
    "# Getting Dataset"
   ]
  },
  {
   "cell_type": "code",
   "execution_count": 3,
   "metadata": {},
   "outputs": [
    {
     "name": "stdout",
     "output_type": "stream",
     "text": [
      "sample_submission.csv  test  train\r\n"
     ]
    }
   ],
   "source": [
    "!ls ../input/"
   ]
  },
  {
   "cell_type": "markdown",
   "metadata": {},
   "source": [
    "Scale the image for faster training"
   ]
  },
  {
   "cell_type": "code",
   "execution_count": 4,
   "metadata": {
    "_cell_guid": "79c7e3d0-c299-4dcb-8224-4455121ee9b0",
    "_uuid": "d629ff2d2480ee46fbb7e2d37f6b5fab8052498a"
   },
   "outputs": [
    {
     "name": "stdout",
     "output_type": "stream",
     "text": [
      "4750/4750\r"
     ]
    }
   ],
   "source": [
    "ScaleTo = 100  # px to scale\n",
    "seed = 7  # fixing random\n",
    "\n",
    "path = '../input/plant-seedlings-classification/train/*/*.png' \n",
    "files = glob(path)\n",
    "if len(files) == 0:\n",
    "    path = '../input/train/*/*.png' \n",
    "    files = glob(path)\n",
    "\n",
    "\n",
    "\n",
    "trainImg = []\n",
    "trainLabel = []\n",
    "j = 1\n",
    "num = len(files)\n",
    "\n",
    "# Obtain images and resizing, obtain labels\n",
    "for img in files:\n",
    "    print(str(j) + \"/\" + str(num), end=\"\\r\")\n",
    "    trainImg.append(cv2.resize(cv2.imread(img), (ScaleTo, ScaleTo)))  # Get image (with resizing)\n",
    "    trainLabel.append(img.split('/')[-2])  # Get image label (folder name)\n",
    "    j += 1\n",
    "\n",
    "trainImg = np.asarray(trainImg)  # Train images set\n",
    "trainLabel = pd.DataFrame(trainLabel)  # Train labels set"
   ]
  },
  {
   "cell_type": "code",
   "execution_count": 5,
   "metadata": {},
   "outputs": [],
   "source": [
    "from IPython.core.interactiveshell import InteractiveShell\n",
    "InteractiveShell.ast_node_interactivity = \"all\"\n",
    "start = dt.datetime.now()"
   ]
  },
  {
   "cell_type": "markdown",
   "metadata": {},
   "source": [
    "Encode Image Labels"
   ]
  },
  {
   "cell_type": "code",
   "execution_count": 6,
   "metadata": {},
   "outputs": [
    {
     "data": {
      "text/plain": [
       "LabelEncoder()"
      ]
     },
     "execution_count": 6,
     "metadata": {},
     "output_type": "execute_result"
    }
   ],
   "source": [
    "from keras.utils import np_utils\n",
    "from sklearn import preprocessing\n",
    "import matplotlib.pyplot as plt\n",
    "\n",
    "# Encode labels and create classes\n",
    "le = preprocessing.LabelEncoder()\n",
    "le.fit(trainLabel[0])\n",
    "# print(\"Classes: \" + str(le.classes_))\n",
    "encodeTrainLabels = le.transform(trainLabel[0])\n",
    "\n",
    "# Make labels categorical\n",
    "clearTrainLabel = np_utils.to_categorical(encodeTrainLabels)\n",
    "num_clases = clearTrainLabel.shape[1]\n",
    "# print(\"Number of classes: \" + str(num_clases))\n",
    "\n",
    "# Plot of label types numbers\n",
    "# trainLabel[0].value_counts().plot(kind='bar')"
   ]
  },
  {
   "cell_type": "markdown",
   "metadata": {},
   "source": [
    "# Preprocessing (Mask Img)"
   ]
  },
  {
   "cell_type": "markdown",
   "metadata": {},
   "source": [
    "* Use gaussian blur for remove noise\n",
    "* Convert color to HSV\n",
    "* Create mask\n",
    "* Create boolean mask\n",
    "* Apply boolean mask and getting image without background"
   ]
  },
  {
   "cell_type": "code",
   "execution_count": 7,
   "metadata": {},
   "outputs": [],
   "source": [
    "clearTrainImg = []\n",
    "examples = []\n",
    "for img in trainImg:\n",
    "    # Use gaussian blur\n",
    "    blurImg = cv2.GaussianBlur(img, (5, 5), 0)   \n",
    "    \n",
    "    # Convert to HSV image\n",
    "    hsvImg = cv2.cvtColor(blurImg, cv2.COLOR_BGR2HSV)  \n",
    "    \n",
    "    # Create mask (parameters - green color range)\n",
    "    lower_green = (25, 40, 50)\n",
    "    upper_green = (75, 255, 255)\n",
    "    mask = cv2.inRange(hsvImg, lower_green, upper_green)  \n",
    "    kernel = cv2.getStructuringElement(cv2.MORPH_ELLIPSE, (11, 11))\n",
    "    mask = cv2.morphologyEx(mask, cv2.MORPH_CLOSE, kernel)\n",
    "    \n",
    "    # Create bool mask\n",
    "    bMask = mask > 0  \n",
    "    \n",
    "    # Apply the mask\n",
    "    clear = np.zeros_like(img, np.uint8)  # Create empty image\n",
    "    clear[bMask] = img[bMask]  # Apply boolean mask to the origin image\n",
    "    \n",
    "    clearTrainImg.append(clear)  # Append image without backgroung\n",
    "\n",
    "clearTrainImg = np.asarray(clearTrainImg)"
   ]
  },
  {
   "cell_type": "markdown",
   "metadata": {},
   "source": [
    "# Split Dataset"
   ]
  },
  {
   "cell_type": "code",
   "execution_count": 8,
   "metadata": {},
   "outputs": [],
   "source": [
    "clearTrainImg = clearTrainImg / 255 #Normalize dataset"
   ]
  },
  {
   "cell_type": "code",
   "execution_count": 9,
   "metadata": {},
   "outputs": [],
   "source": [
    "from sklearn.model_selection import train_test_split\n",
    "\n",
    "trainX, testX, trainY, testY = train_test_split(clearTrainImg, clearTrainLabel, \n",
    "                                                test_size=0.1, random_state=seed, \n",
    "                                                stratify = clearTrainLabel)"
   ]
  },
  {
   "cell_type": "markdown",
   "metadata": {},
   "source": [
    "# Model"
   ]
  },
  {
   "cell_type": "markdown",
   "metadata": {},
   "source": [
    "## Data Augmentation"
   ]
  },
  {
   "cell_type": "code",
   "execution_count": 10,
   "metadata": {},
   "outputs": [],
   "source": [
    "from keras.preprocessing.image import ImageDataGenerator"
   ]
  },
  {
   "cell_type": "code",
   "execution_count": 11,
   "metadata": {},
   "outputs": [],
   "source": [
    "# datagen = ImageDataGenerator(\n",
    "#         rotation_range=180,  # randomly rotate images in the range\n",
    "#         zoom_range = 0.1, # Randomly zoom image \n",
    "#         width_shift_range=0.1,  # randomly shift images horizontally\n",
    "#         height_shift_range=0.1,  # randomly shift images vertically \n",
    "#         horizontal_flip=True,  # randomly flip images horizontally\n",
    "#         vertical_flip=True  # randomly flip images vertically\n",
    "#     )  \n",
    "# datagen.fit(trainX)"
   ]
  },
  {
   "cell_type": "code",
   "execution_count": 12,
   "metadata": {},
   "outputs": [],
   "source": [
    "datagen = ImageDataGenerator(\n",
    "        featurewise_center=False,  # set input mean to 0 over the dataset\n",
    "        samplewise_center=False,  # set each sample mean to 0\n",
    "        featurewise_std_normalization=False,  # divide inputs by std of the dataset\n",
    "        samplewise_std_normalization=False,  # divide each input by its std\n",
    "        zca_whitening=False,  # apply ZCA whitening\n",
    "        rotation_range=10,  # randomly rotate images in the range (degrees, 0 to 180)\n",
    "        zoom_range = 0.1, # Randomly zoom image \n",
    "        width_shift_range=0.1,  # randomly shift images horizontally (fraction of total width)\n",
    "        height_shift_range=0.1,  # randomly shift images vertically (fraction of total height)\n",
    "        horizontal_flip=False,  # randomly flip images\n",
    "        vertical_flip=False)  # randomly flip images\n",
    "\n",
    "\n",
    "datagen.fit(trainX)"
   ]
  },
  {
   "cell_type": "markdown",
   "metadata": {},
   "source": [
    "## Model"
   ]
  },
  {
   "cell_type": "code",
   "execution_count": 13,
   "metadata": {},
   "outputs": [],
   "source": [
    "import numpy\n",
    "from keras.models import Sequential\n",
    "from keras.layers import Dense\n",
    "from keras.layers import Dropout\n",
    "from keras.layers import Flatten\n",
    "from keras.layers.convolutional import Conv2D\n",
    "from keras.layers.convolutional import MaxPooling2D\n",
    "from keras.layers import BatchNormalization\n",
    "\n",
    "numpy.random.seed(seed)  # Fix seed"
   ]
  },
  {
   "cell_type": "code",
   "execution_count": 14,
   "metadata": {},
   "outputs": [],
   "source": [
    "# model = Sequential()\n",
    "\n",
    "# model.add(Conv2D(filters=64, kernel_size=(5, 5), input_shape=(ScaleTo, ScaleTo, 3), activation='relu'))\n",
    "# model.add(BatchNormalization(axis=3))\n",
    "# model.add(Conv2D(filters=64, kernel_size=(5, 5), activation='relu'))\n",
    "# model.add(MaxPooling2D((2, 2)))\n",
    "# model.add(BatchNormalization(axis=3))\n",
    "# model.add(Dropout(0.1))\n",
    "\n",
    "# model.add(Conv2D(filters=128, kernel_size=(5, 5), activation='relu'))\n",
    "# model.add(BatchNormalization(axis=3))\n",
    "# model.add(Conv2D(filters=128, kernel_size=(5, 5), activation='relu'))\n",
    "# model.add(MaxPooling2D((2, 2)))\n",
    "# model.add(BatchNormalization(axis=3))\n",
    "# model.add(Dropout(0.1))\n",
    "\n",
    "# model.add(Conv2D(filters=256, kernel_size=(5, 5), activation='relu'))\n",
    "# model.add(BatchNormalization(axis=3))\n",
    "# model.add(Conv2D(filters=256, kernel_size=(5, 5), activation='relu'))\n",
    "# model.add(MaxPooling2D((2, 2)))\n",
    "# model.add(BatchNormalization(axis=3))\n",
    "# model.add(Dropout(0.1))\n",
    "\n",
    "# model.add(Flatten())\n",
    "\n",
    "# model.add(Dense(256, activation='relu'))\n",
    "# model.add(BatchNormalization())\n",
    "# model.add(Dropout(0.5))\n",
    "\n",
    "# model.add(Dense(256, activation='relu'))\n",
    "# model.add(BatchNormalization())\n",
    "# model.add(Dropout(0.5))\n",
    "\n",
    "# model.add(Dense(num_clases, activation='softmax'))\n",
    "\n",
    "# model.summary()\n",
    "\n",
    "# # compile model\n",
    "# model.compile(loss='categorical_crossentropy', optimizer='adam', metrics=['accuracy'])"
   ]
  },
  {
   "cell_type": "markdown",
   "metadata": {},
   "source": [
    "## Model 1"
   ]
  },
  {
   "cell_type": "code",
   "execution_count": 15,
   "metadata": {},
   "outputs": [
    {
     "name": "stdout",
     "output_type": "stream",
     "text": [
      "WARNING:tensorflow:From /opt/conda/lib/python3.6/site-packages/tensorflow/python/framework/op_def_library.py:263: colocate_with (from tensorflow.python.framework.ops) is deprecated and will be removed in a future version.\n",
      "Instructions for updating:\n",
      "Colocations handled automatically by placer.\n",
      "WARNING:tensorflow:From /opt/conda/lib/python3.6/site-packages/keras/backend/tensorflow_backend.py:3445: calling dropout (from tensorflow.python.ops.nn_ops) with keep_prob is deprecated and will be removed in a future version.\n",
      "Instructions for updating:\n",
      "Please use `rate` instead of `keep_prob`. Rate should be set to `rate = 1 - keep_prob`.\n",
      "_________________________________________________________________\n",
      "Layer (type)                 Output Shape              Param #   \n",
      "=================================================================\n",
      "conv2d_1 (Conv2D)            (None, 91, 91, 64)        19264     \n",
      "_________________________________________________________________\n",
      "conv2d_2 (Conv2D)            (None, 87, 87, 32)        51232     \n",
      "_________________________________________________________________\n",
      "conv2d_3 (Conv2D)            (None, 87, 87, 40)        32040     \n",
      "_________________________________________________________________\n",
      "max_pooling2d_1 (MaxPooling2 (None, 43, 43, 40)        0         \n",
      "_________________________________________________________________\n",
      "conv2d_4 (Conv2D)            (None, 43, 43, 70)        25270     \n",
      "_________________________________________________________________\n",
      "conv2d_5 (Conv2D)            (None, 43, 43, 500)       315500    \n",
      "_________________________________________________________________\n",
      "max_pooling2d_2 (MaxPooling2 (None, 21, 21, 500)       0         \n",
      "_________________________________________________________________\n",
      "conv2d_6 (Conv2D)            (None, 19, 19, 1024)      4609024   \n",
      "_________________________________________________________________\n",
      "max_pooling2d_3 (MaxPooling2 (None, 9, 9, 1024)        0         \n",
      "_________________________________________________________________\n",
      "flatten_1 (Flatten)          (None, 82944)             0         \n",
      "_________________________________________________________________\n",
      "dense_1 (Dense)              (None, 100)               8294500   \n",
      "_________________________________________________________________\n",
      "dropout_1 (Dropout)          (None, 100)               0         \n",
      "_________________________________________________________________\n",
      "dense_2 (Dense)              (None, 100)               10100     \n",
      "_________________________________________________________________\n",
      "dropout_2 (Dropout)          (None, 100)               0         \n",
      "_________________________________________________________________\n",
      "dense_3 (Dense)              (None, 100)               10100     \n",
      "_________________________________________________________________\n",
      "dropout_3 (Dropout)          (None, 100)               0         \n",
      "_________________________________________________________________\n",
      "dense_4 (Dense)              (None, 12)                1212      \n",
      "=================================================================\n",
      "Total params: 13,368,242\n",
      "Trainable params: 13,368,242\n",
      "Non-trainable params: 0\n",
      "_________________________________________________________________\n"
     ]
    }
   ],
   "source": [
    "model = Sequential()\n",
    "#CONV\n",
    "#only specify the image input dimensions in the first layer.  - initial layers learn only primitive regularities so do not need to have so much units there.\n",
    "model.add(Conv2D(filters=64, kernel_size=(10, 10), input_shape=(ScaleTo, ScaleTo, 3), activation='relu')) #now should be 100-10+1 = 91x91 x64\n",
    "model.add(Conv2D(filters=32, kernel_size=(5, 5), activation='relu')) #now should be 91-5+1 = 87x87\n",
    "\n",
    "#CNN More filter - \n",
    "model.add(Conv2D(40, kernel_size=5, padding=\"same\", activation = 'relu'))\n",
    "model.add(MaxPooling2D(pool_size=(2, 2), strides=(2, 2)))\n",
    "model.add(Conv2D(70, kernel_size=3, padding=\"same\", activation = 'relu'))\n",
    "model.add(Conv2D(500, kernel_size=3, padding=\"same\", activation = 'relu'))\n",
    "model.add(MaxPooling2D(pool_size=(2, 2), strides=(2, 2)))\n",
    "model.add(Conv2D(1024, kernel_size=3, padding=\"valid\", activation = 'relu'))\n",
    "model.add(MaxPooling2D(pool_size=(2, 2), strides=(2, 2)))\n",
    "\n",
    "#for FCN - 3 layers is practically better than 2 layers but beyond this, it depends on the dataset\n",
    "model.add(Flatten())\n",
    "model.add(Dense(units=100, activation='relu'  ))\n",
    "model.add(Dropout(0.1))\n",
    "model.add(Dense(units=100, activation='relu'  ))\n",
    "model.add(Dropout(0.1))\n",
    "model.add(Dense(units=100, activation='relu'  ))\n",
    "model.add(Dropout(0.3))\n",
    "#final output layer\n",
    "model.add(Dense(num_clases, activation='softmax'))\n",
    "\n",
    "model.summary()"
   ]
  },
  {
   "cell_type": "code",
   "execution_count": 16,
   "metadata": {},
   "outputs": [],
   "source": [
    "model.compile(loss='categorical_crossentropy', optimizer='adam', metrics=['accuracy'])"
   ]
  },
  {
   "cell_type": "markdown",
   "metadata": {},
   "source": [
    "## Model 2"
   ]
  },
  {
   "cell_type": "code",
   "execution_count": 17,
   "metadata": {},
   "outputs": [],
   "source": [
    "# model = Sequential()\n",
    "# #CONV\n",
    "# #only specify the image input dimensions in the first layer.  - initial layers learn only primitive regularities so do not need to have so much units there.\n",
    "# model.add(Conv2D(filters=64, kernel_size=(10, 10), input_shape=(ScaleTo, ScaleTo, 3), activation='relu')) #now should be 100-10+1 = 91x91 x64\n",
    "# model.add(Conv2D(filters=32, kernel_size=(5, 5), activation='relu')) #now should be 91-5+1 = 87x87\n",
    "\n",
    "# #CNN More filter - without Max Pooling\n",
    "# model.add(Conv2D(filters=32, kernel_size=(10, 10), activation='relu')) \n",
    "# model.add(Conv2D(filters=16, kernel_size=(7, 7), activation='relu')) \n",
    "# model.add(Conv2D(filters=32, kernel_size=(7, 7), activation='relu')) \n",
    "# model.add(Conv2D(filters=64, kernel_size=(5, 5), activation='relu')) #\n",
    "\n",
    "# #for FCN - 3 layers is practically better than 2 layers but beyond this, it depends on the dataset\n",
    "# model.add(Flatten())\n",
    "# model.add(Dense(units=100, activation='relu'  ))\n",
    "# model.add(Dropout(0.1))\n",
    "# model.add(Dense(units=100, activation='relu'  ))\n",
    "# model.add(Dropout(0.1))\n",
    "# model.add(Dense(units=100, activation='relu'  ))\n",
    "# model.add(Dropout(0.3))\n",
    "# #final output layer\n",
    "# model.add(Dense(num_clases, activation='softmax'))\n",
    "\n",
    "# model.summary()"
   ]
  },
  {
   "cell_type": "code",
   "execution_count": 18,
   "metadata": {},
   "outputs": [],
   "source": [
    "# model.compile(loss='categorical_crossentropy', optimizer='adam', metrics=['accuracy'])"
   ]
  },
  {
   "cell_type": "markdown",
   "metadata": {},
   "source": [
    "### Model 3\n",
    "Inspired by https://www.kaggle.com/yassineghouzam/introduction-to-cnn-keras-0-997-top-6"
   ]
  },
  {
   "cell_type": "code",
   "execution_count": 19,
   "metadata": {},
   "outputs": [],
   "source": [
    "\n",
    "# model = Sequential()\n",
    "\n",
    "# model.add(Conv2D(filters = 32, kernel_size = (5,5),padding = 'Same', \n",
    "#                  activation ='relu', input_shape = (100,100,3)))\n",
    "# model.add(Conv2D(filters = 32, kernel_size = (5,5),padding = 'Same', \n",
    "#                  activation ='relu'))\n",
    "# model.add(MaxPooling2D(pool_size=(2,2)))\n",
    "# model.add(Dropout(0.25))\n",
    "\n",
    "\n",
    "# model.add(Conv2D(filters = 64, kernel_size = (3,3),padding = 'Same', \n",
    "#                  activation ='relu'))\n",
    "# model.add(Conv2D(filters = 64, kernel_size = (3,3),padding = 'Same', \n",
    "#                  activation ='relu'))\n",
    "# model.add(MaxPooling2D(pool_size=(2,2), strides=(2,2)))\n",
    "# model.add(Dropout(0.25))\n",
    "\n",
    "\n",
    "# model.add(Flatten())\n",
    "# model.add(Dense(256, activation = \"relu\"))\n",
    "# model.add(Dropout(0.5))\n",
    "# model.add(Dense(num_clases, activation = \"softmax\"))\n",
    "\n",
    "# model.summary()"
   ]
  },
  {
   "cell_type": "code",
   "execution_count": 20,
   "metadata": {},
   "outputs": [],
   "source": [
    "# from keras.optimizers import RMSprop\n",
    "\n",
    "# Define the optimizer\n",
    "# optimizer = RMSprop(lr=0.001, rho=0.9, epsilon=1e-08, decay=0.0)"
   ]
  },
  {
   "cell_type": "code",
   "execution_count": 21,
   "metadata": {},
   "outputs": [],
   "source": [
    "# Compile the model\n",
    "# model.compile(optimizer = optimizer , loss = \"categorical_crossentropy\", metrics=[\"accuracy\"])"
   ]
  },
  {
   "cell_type": "code",
   "execution_count": 22,
   "metadata": {},
   "outputs": [],
   "source": [
    "from keras.callbacks import ReduceLROnPlateau\n",
    "\n",
    "# Set a learning rate annealer\n",
    "learning_rate_reduction = ReduceLROnPlateau(monitor='val_acc', \n",
    "                                            patience=3, \n",
    "                                            verbose=1, \n",
    "                                            factor=0.5, \n",
    "                                            min_lr=0.00001)\n",
    "\n",
    "# epochs = 1 # Turn epochs to 30 to get 0.9967 accuracy\n",
    "# batch_size = 86"
   ]
  },
  {
   "cell_type": "markdown",
   "metadata": {},
   "source": [
    "## Fit Model"
   ]
  },
  {
   "cell_type": "code",
   "execution_count": 23,
   "metadata": {},
   "outputs": [],
   "source": [
    "# from keras.callbacks import ModelCheckpoint, ReduceLROnPlateau, CSVLogger\n",
    "\n",
    "# # learning rate reduction\n",
    "# learning_rate_reduction = ReduceLROnPlateau(monitor='val_acc', \n",
    "#                                             patience=3, \n",
    "#                                             verbose=1, \n",
    "#                                             factor=0.4, \n",
    "#                                             min_lr=0.00001)\n",
    "\n",
    "# # checkpoints\n",
    "# filepath=\"drive/DataScience/PlantReco/weights.best_{epoch:02d}-{val_acc:.2f}.hdf5\"\n",
    "# checkpoint = ModelCheckpoint(filepath, monitor='val_acc', \n",
    "#                              verbose=1, save_best_only=True, mode='max')\n",
    "# filepath=\"drive/DataScience/PlantReco/weights.last_auto4.hdf5\"\n",
    "# checkpoint_all = ModelCheckpoint(filepath, monitor='val_acc', \n",
    "#                                  verbose=1, save_best_only=False, mode='max')\n",
    "\n",
    "# # all callbacks\n",
    "# callbacks_list = [checkpoint, learning_rate_reduction, checkpoint_all]\n",
    "\n",
    "# # fit model\n",
    "# hist = model.fit_generator(datagen.flow(trainX, trainY, batch_size=75), \n",
    "#                            epochs=12, validation_data=(testX, testY), \n",
    "#                            steps_per_epoch=trainX.shape[0], callbacks=callbacks_list)\n",
    "\n",
    "\n"
   ]
  },
  {
   "cell_type": "markdown",
   "metadata": {},
   "source": [
    "https://www.kaggle.com/danmoller/make-best-use-of-a-kernel-s-limited-uptime-keras"
   ]
  },
  {
   "cell_type": "code",
   "execution_count": 24,
   "metadata": {},
   "outputs": [],
   "source": [
    "#a function compatible with the on_interrupt handler\n",
    "def saveWeights(model, elapsed):\n",
    "    model.save_weights(\"model_weights.h5\")\n"
   ]
  },
  {
   "cell_type": "code",
   "execution_count": 25,
   "metadata": {},
   "outputs": [],
   "source": [
    "# callbacks = [TimerCallback(50, on_interrupt=saveWeights)]\n",
    "# model.fit_generator(datagen.flow(trainX, trainY, batch_size=75), \n",
    "#                            epochs=200, validation_data=(testX, testY), \n",
    "#                            steps_per_epoch=trainX.shape[0], callbacks=callbacks)\n"
   ]
  },
  {
   "cell_type": "code",
   "execution_count": 26,
   "metadata": {},
   "outputs": [
    {
     "name": "stdout",
     "output_type": "stream",
     "text": [
      "WARNING:tensorflow:From /opt/conda/lib/python3.6/site-packages/tensorflow/python/ops/math_ops.py:3066: to_int32 (from tensorflow.python.ops.math_ops) is deprecated and will be removed in a future version.\n",
      "Instructions for updating:\n",
      "Use tf.cast instead.\n",
      "Epoch 1/30\n",
      "57/57 [==============================] - 17s 297ms/step - loss: 2.2095 - acc: 0.2372 - val_loss: 1.7616 - val_acc: 0.3705\n",
      "Epoch 2/30\n",
      "57/57 [==============================] - 12s 218ms/step - loss: 1.8228 - acc: 0.3460 - val_loss: 1.6484 - val_acc: 0.3853\n",
      "Epoch 3/30\n",
      "57/57 [==============================] - 13s 230ms/step - loss: 1.7029 - acc: 0.3768 - val_loss: 1.4891 - val_acc: 0.4421\n",
      "Epoch 4/30\n",
      "57/57 [==============================] - 13s 221ms/step - loss: 1.5852 - acc: 0.4393 - val_loss: 1.3980 - val_acc: 0.5242\n",
      "Epoch 5/30\n",
      "57/57 [==============================] - 13s 233ms/step - loss: 1.4669 - acc: 0.4901 - val_loss: 1.1951 - val_acc: 0.5684\n",
      "Epoch 6/30\n",
      "57/57 [==============================] - 13s 222ms/step - loss: 1.3479 - acc: 0.5282 - val_loss: 1.1047 - val_acc: 0.6147\n",
      "Epoch 7/30\n",
      "57/57 [==============================] - 13s 221ms/step - loss: 1.2262 - acc: 0.5675 - val_loss: 1.0072 - val_acc: 0.6547\n",
      "Epoch 8/30\n",
      "57/57 [==============================] - 13s 221ms/step - loss: 1.1807 - acc: 0.5925 - val_loss: 0.9725 - val_acc: 0.6337\n",
      "Epoch 9/30\n",
      "57/57 [==============================] - 13s 221ms/step - loss: 1.1308 - acc: 0.6026 - val_loss: 0.8545 - val_acc: 0.7137\n",
      "Epoch 10/30\n",
      "57/57 [==============================] - 13s 221ms/step - loss: 1.0526 - acc: 0.6377 - val_loss: 0.8379 - val_acc: 0.7221\n",
      "Epoch 11/30\n",
      "57/57 [==============================] - 13s 223ms/step - loss: 1.0174 - acc: 0.6508 - val_loss: 0.8076 - val_acc: 0.7347\n",
      "Epoch 12/30\n",
      "57/57 [==============================] - 13s 222ms/step - loss: 0.9344 - acc: 0.6805 - val_loss: 0.7492 - val_acc: 0.7432\n",
      "Epoch 13/30\n",
      "57/57 [==============================] - 13s 222ms/step - loss: 0.9121 - acc: 0.6807 - val_loss: 0.7679 - val_acc: 0.7474\n",
      "Epoch 14/30\n",
      "57/57 [==============================] - 13s 221ms/step - loss: 0.8994 - acc: 0.6873 - val_loss: 0.7677 - val_acc: 0.7347\n",
      "Epoch 15/30\n",
      "57/57 [==============================] - 13s 221ms/step - loss: 0.8447 - acc: 0.7088 - val_loss: 0.6705 - val_acc: 0.7832\n",
      "Epoch 16/30\n",
      "57/57 [==============================] - 13s 222ms/step - loss: 0.8283 - acc: 0.7113 - val_loss: 0.7718 - val_acc: 0.7326\n",
      "Epoch 17/30\n",
      "57/57 [==============================] - 13s 229ms/step - loss: 0.8100 - acc: 0.7273 - val_loss: 0.6968 - val_acc: 0.7621\n",
      "Epoch 18/30\n",
      "57/57 [==============================] - 13s 222ms/step - loss: 0.7628 - acc: 0.7401 - val_loss: 0.5950 - val_acc: 0.7937\n",
      "Epoch 19/30\n",
      "57/57 [==============================] - 13s 221ms/step - loss: 0.7636 - acc: 0.7441 - val_loss: 0.5719 - val_acc: 0.8147\n",
      "Epoch 20/30\n",
      "57/57 [==============================] - 13s 221ms/step - loss: 0.7056 - acc: 0.7546 - val_loss: 0.5676 - val_acc: 0.8042\n",
      "Epoch 21/30\n",
      "57/57 [==============================] - 13s 221ms/step - loss: 0.7251 - acc: 0.7544 - val_loss: 0.5566 - val_acc: 0.8084\n",
      "Epoch 22/30\n",
      "57/57 [==============================] - 13s 222ms/step - loss: 0.6678 - acc: 0.7705 - val_loss: 0.5495 - val_acc: 0.8084\n",
      "\n",
      "Epoch 00022: ReduceLROnPlateau reducing learning rate to 0.0005000000237487257.\n",
      "Epoch 23/30\n",
      "57/57 [==============================] - 13s 221ms/step - loss: 0.6023 - acc: 0.7974 - val_loss: 0.4621 - val_acc: 0.8463\n",
      "Epoch 24/30\n",
      "57/57 [==============================] - 13s 223ms/step - loss: 0.6007 - acc: 0.7906 - val_loss: 0.5005 - val_acc: 0.8274\n",
      "Epoch 25/30\n",
      "57/57 [==============================] - 13s 222ms/step - loss: 0.5658 - acc: 0.8019 - val_loss: 0.4688 - val_acc: 0.8400\n",
      "Epoch 26/30\n",
      "57/57 [==============================] - 13s 222ms/step - loss: 0.5283 - acc: 0.8152 - val_loss: 0.4691 - val_acc: 0.8337\n",
      "\n",
      "Epoch 00026: ReduceLROnPlateau reducing learning rate to 0.0002500000118743628.\n",
      "Epoch 27/30\n",
      "57/57 [==============================] - 13s 229ms/step - loss: 0.4996 - acc: 0.8253 - val_loss: 0.4531 - val_acc: 0.8526\n",
      "Epoch 28/30\n",
      "57/57 [==============================] - 13s 221ms/step - loss: 0.4835 - acc: 0.8353 - val_loss: 0.4262 - val_acc: 0.8589\n",
      "Epoch 29/30\n",
      "57/57 [==============================] - 13s 225ms/step - loss: 0.4785 - acc: 0.8330 - val_loss: 0.4261 - val_acc: 0.8653\n",
      "Epoch 30/30\n",
      "57/57 [==============================] - 13s 230ms/step - loss: 0.4442 - acc: 0.8407 - val_loss: 0.4324 - val_acc: 0.8589\n"
     ]
    }
   ],
   "source": [
    "batch_size = 75\n",
    "epochs = 30\n",
    "callbacks = [learning_rate_reduction, TimerCallback(50, on_interrupt=saveWeights)]\n",
    "history = model.fit_generator(datagen.flow(trainX,trainY, batch_size=batch_size), \n",
    "                              epochs = epochs, validation_data = (testX,testY),\n",
    "                            steps_per_epoch=trainX.shape[0] // batch_size\n",
    "                              , callbacks=callbacks)\n",
    "# history = model.fit_generator(datagen.flow(trainX,trainY, batch_size=batch_size),\n",
    "#                               epochs = epochs, validation_data = (testX,testY),\n",
    "#                             steps_per_epoch=trainX.shape[0] \n",
    "#                               , callbacks=callbacks)"
   ]
  },
  {
   "cell_type": "code",
   "execution_count": 27,
   "metadata": {},
   "outputs": [
    {
     "data": {
      "text/plain": [
       "['__notebook__.ipynb', '__output__.json']"
      ]
     },
     "execution_count": 27,
     "metadata": {},
     "output_type": "execute_result"
    }
   ],
   "source": [
    "#check that the weights were saved:\n",
    "import os\n",
    "os.listdir(\".\")"
   ]
  },
  {
   "cell_type": "code",
   "execution_count": 28,
   "metadata": {},
   "outputs": [
    {
     "ename": "OSError",
     "evalue": "Unable to open file (unable to open file: name = 'model_weights.h5', errno = 2, error message = 'No such file or directory', flags = 0, o_flags = 0)",
     "output_type": "error",
     "traceback": [
      "\u001b[0;31m---------------------------------------------------------------------------\u001b[0m",
      "\u001b[0;31mOSError\u001b[0m                                   Traceback (most recent call last)",
      "\u001b[0;32m<ipython-input-28-1808a29d3b3b>\u001b[0m in \u001b[0;36m<module>\u001b[0;34m()\u001b[0m\n\u001b[1;32m      4\u001b[0m \u001b[0;34m\u001b[0m\u001b[0m\n\u001b[1;32m      5\u001b[0m \u001b[0;31m#load weights - this only works if the model has the same layer types and the same parameters\u001b[0m\u001b[0;34m\u001b[0m\u001b[0;34m\u001b[0m\u001b[0m\n\u001b[0;32m----> 6\u001b[0;31m \u001b[0mmodel\u001b[0m\u001b[0;34m.\u001b[0m\u001b[0mload_weights\u001b[0m\u001b[0;34m(\u001b[0m\u001b[0;34m'model_weights.h5'\u001b[0m\u001b[0;34m)\u001b[0m \u001b[0;31m#model.load_weights(\"../input/plantrecomodels/weights.best_17-0.96.hdf5\")\u001b[0m\u001b[0;34m\u001b[0m\u001b[0m\n\u001b[0m\u001b[1;32m      7\u001b[0m \u001b[0;34m\u001b[0m\u001b[0m\n\u001b[1;32m      8\u001b[0m \u001b[0;31m#evaluate model2\u001b[0m\u001b[0;34m\u001b[0m\u001b[0;34m\u001b[0m\u001b[0m\n",
      "\u001b[0;32m/opt/conda/lib/python3.6/site-packages/keras/engine/network.py\u001b[0m in \u001b[0;36mload_weights\u001b[0;34m(self, filepath, by_name, skip_mismatch, reshape)\u001b[0m\n\u001b[1;32m   1155\u001b[0m         \u001b[0;32mif\u001b[0m \u001b[0mh5py\u001b[0m \u001b[0;32mis\u001b[0m \u001b[0;32mNone\u001b[0m\u001b[0;34m:\u001b[0m\u001b[0;34m\u001b[0m\u001b[0m\n\u001b[1;32m   1156\u001b[0m             \u001b[0;32mraise\u001b[0m \u001b[0mImportError\u001b[0m\u001b[0;34m(\u001b[0m\u001b[0;34m'`load_weights` requires h5py.'\u001b[0m\u001b[0;34m)\u001b[0m\u001b[0;34m\u001b[0m\u001b[0m\n\u001b[0;32m-> 1157\u001b[0;31m         \u001b[0;32mwith\u001b[0m \u001b[0mh5py\u001b[0m\u001b[0;34m.\u001b[0m\u001b[0mFile\u001b[0m\u001b[0;34m(\u001b[0m\u001b[0mfilepath\u001b[0m\u001b[0;34m,\u001b[0m \u001b[0mmode\u001b[0m\u001b[0;34m=\u001b[0m\u001b[0;34m'r'\u001b[0m\u001b[0;34m)\u001b[0m \u001b[0;32mas\u001b[0m \u001b[0mf\u001b[0m\u001b[0;34m:\u001b[0m\u001b[0;34m\u001b[0m\u001b[0m\n\u001b[0m\u001b[1;32m   1158\u001b[0m             \u001b[0;32mif\u001b[0m \u001b[0;34m'layer_names'\u001b[0m \u001b[0;32mnot\u001b[0m \u001b[0;32min\u001b[0m \u001b[0mf\u001b[0m\u001b[0;34m.\u001b[0m\u001b[0mattrs\u001b[0m \u001b[0;32mand\u001b[0m \u001b[0;34m'model_weights'\u001b[0m \u001b[0;32min\u001b[0m \u001b[0mf\u001b[0m\u001b[0;34m:\u001b[0m\u001b[0;34m\u001b[0m\u001b[0m\n\u001b[1;32m   1159\u001b[0m                 \u001b[0mf\u001b[0m \u001b[0;34m=\u001b[0m \u001b[0mf\u001b[0m\u001b[0;34m[\u001b[0m\u001b[0;34m'model_weights'\u001b[0m\u001b[0;34m]\u001b[0m\u001b[0;34m\u001b[0m\u001b[0m\n",
      "\u001b[0;32m/opt/conda/lib/python3.6/site-packages/h5py/_hl/files.py\u001b[0m in \u001b[0;36m__init__\u001b[0;34m(self, name, mode, driver, libver, userblock_size, swmr, rdcc_nslots, rdcc_nbytes, rdcc_w0, track_order, **kwds)\u001b[0m\n\u001b[1;32m    392\u001b[0m                 fid = make_fid(name, mode, userblock_size,\n\u001b[1;32m    393\u001b[0m                                \u001b[0mfapl\u001b[0m\u001b[0;34m,\u001b[0m \u001b[0mfcpl\u001b[0m\u001b[0;34m=\u001b[0m\u001b[0mmake_fcpl\u001b[0m\u001b[0;34m(\u001b[0m\u001b[0mtrack_order\u001b[0m\u001b[0;34m=\u001b[0m\u001b[0mtrack_order\u001b[0m\u001b[0;34m)\u001b[0m\u001b[0;34m,\u001b[0m\u001b[0;34m\u001b[0m\u001b[0m\n\u001b[0;32m--> 394\u001b[0;31m                                swmr=swmr)\n\u001b[0m\u001b[1;32m    395\u001b[0m \u001b[0;34m\u001b[0m\u001b[0m\n\u001b[1;32m    396\u001b[0m             \u001b[0;32mif\u001b[0m \u001b[0mswmr_support\u001b[0m\u001b[0;34m:\u001b[0m\u001b[0;34m\u001b[0m\u001b[0m\n",
      "\u001b[0;32m/opt/conda/lib/python3.6/site-packages/h5py/_hl/files.py\u001b[0m in \u001b[0;36mmake_fid\u001b[0;34m(name, mode, userblock_size, fapl, fcpl, swmr)\u001b[0m\n\u001b[1;32m    168\u001b[0m         \u001b[0;32mif\u001b[0m \u001b[0mswmr\u001b[0m \u001b[0;32mand\u001b[0m \u001b[0mswmr_support\u001b[0m\u001b[0;34m:\u001b[0m\u001b[0;34m\u001b[0m\u001b[0m\n\u001b[1;32m    169\u001b[0m             \u001b[0mflags\u001b[0m \u001b[0;34m|=\u001b[0m \u001b[0mh5f\u001b[0m\u001b[0;34m.\u001b[0m\u001b[0mACC_SWMR_READ\u001b[0m\u001b[0;34m\u001b[0m\u001b[0m\n\u001b[0;32m--> 170\u001b[0;31m         \u001b[0mfid\u001b[0m \u001b[0;34m=\u001b[0m \u001b[0mh5f\u001b[0m\u001b[0;34m.\u001b[0m\u001b[0mopen\u001b[0m\u001b[0;34m(\u001b[0m\u001b[0mname\u001b[0m\u001b[0;34m,\u001b[0m \u001b[0mflags\u001b[0m\u001b[0;34m,\u001b[0m \u001b[0mfapl\u001b[0m\u001b[0;34m=\u001b[0m\u001b[0mfapl\u001b[0m\u001b[0;34m)\u001b[0m\u001b[0;34m\u001b[0m\u001b[0m\n\u001b[0m\u001b[1;32m    171\u001b[0m     \u001b[0;32melif\u001b[0m \u001b[0mmode\u001b[0m \u001b[0;34m==\u001b[0m \u001b[0;34m'r+'\u001b[0m\u001b[0;34m:\u001b[0m\u001b[0;34m\u001b[0m\u001b[0m\n\u001b[1;32m    172\u001b[0m         \u001b[0mfid\u001b[0m \u001b[0;34m=\u001b[0m \u001b[0mh5f\u001b[0m\u001b[0;34m.\u001b[0m\u001b[0mopen\u001b[0m\u001b[0;34m(\u001b[0m\u001b[0mname\u001b[0m\u001b[0;34m,\u001b[0m \u001b[0mh5f\u001b[0m\u001b[0;34m.\u001b[0m\u001b[0mACC_RDWR\u001b[0m\u001b[0;34m,\u001b[0m \u001b[0mfapl\u001b[0m\u001b[0;34m=\u001b[0m\u001b[0mfapl\u001b[0m\u001b[0;34m)\u001b[0m\u001b[0;34m\u001b[0m\u001b[0m\n",
      "\u001b[0;32mh5py/_objects.pyx\u001b[0m in \u001b[0;36mh5py._objects.with_phil.wrapper\u001b[0;34m()\u001b[0m\n",
      "\u001b[0;32mh5py/_objects.pyx\u001b[0m in \u001b[0;36mh5py._objects.with_phil.wrapper\u001b[0;34m()\u001b[0m\n",
      "\u001b[0;32mh5py/h5f.pyx\u001b[0m in \u001b[0;36mh5py.h5f.open\u001b[0;34m()\u001b[0m\n",
      "\u001b[0;31mOSError\u001b[0m: Unable to open file (unable to open file: name = 'model_weights.h5', errno = 2, error message = 'No such file or directory', flags = 0, o_flags = 0)"
     ]
    }
   ],
   "source": [
    "#although it uses the same creator function, it's a different model from the previous one\n",
    "# del(model)\n",
    "# model2 = createModel()\n",
    "\n",
    "#load weights - this only works if the model has the same layer types and the same parameters\n",
    "model.load_weights('model_weights.h5') #model.load_weights(\"../input/plantrecomodels/weights.best_17-0.96.hdf5\")\n",
    "\n",
    "#evaluate model2\n",
    "print(\"\\n\\nEvaluating model:\")\n",
    "loss, acc = model.evaluate(trainX, trainY)\n",
    "print('model loss: ' + str(loss))\n",
    "print('model acc:  ' + str(acc))\n",
    "\n",
    "#predicting and checking\n",
    "# predicts = model.predict(trainX[25:35])\n",
    "# quickCheck(trainX[25:35],trainY[25:35], predicts)"
   ]
  },
  {
   "cell_type": "code",
   "execution_count": 29,
   "metadata": {},
   "outputs": [
    {
     "name": "stdout",
     "output_type": "stream",
     "text": [
      "4275/4275 [==============================] - 3s 755us/step\n",
      "[0.26200873512970774, 0.8982456141605711]\n",
      "475/475 [==============================] - 1s 1ms/step\n",
      "[0.4323998167326576, 0.858947368797503]\n"
     ]
    }
   ],
   "source": [
    "#trainX, testX, trainY, testY\n",
    "print(model.evaluate(trainX, trainY))  # Evaluate on train set\n",
    "print(model.evaluate(testX, testY))  # Evaluate on test set"
   ]
  },
  {
   "cell_type": "markdown",
   "metadata": {},
   "source": [
    "# Evaluate"
   ]
  },
  {
   "cell_type": "code",
   "execution_count": 30,
   "metadata": {},
   "outputs": [
    {
     "data": {
      "image/png": "[encoded data removed]",
      "text/plain": [
       "<Figure size 720x720 with 2 Axes>"
      ]
     },
     "metadata": {},
     "output_type": "display_data"
    }
   ],
   "source": [
    "from sklearn.metrics import confusion_matrix\n",
    "import itertools\n",
    "\n",
    "def plot_confusion_matrix(cm, classes,\n",
    "                          normalize=False,\n",
    "                          title='Confusion matrix',\n",
    "                          cmap=plt.cm.Blues):\n",
    "    \n",
    "    fig = plt.figure(figsize=(10,10))\n",
    "    plt.imshow(cm, interpolation='nearest', cmap=cmap)\n",
    "    plt.title(title)\n",
    "    plt.colorbar()\n",
    "    tick_marks = np.arange(len(classes))\n",
    "    plt.xticks(tick_marks, classes, rotation=90)\n",
    "    plt.yticks(tick_marks, classes)\n",
    "\n",
    "    if normalize:\n",
    "        cm = cm.astype('float') / cm.sum(axis=1)[:, np.newaxis]\n",
    "\n",
    "    thresh = cm.max() / 2.\n",
    "    for i, j in itertools.product(range(cm.shape[0]), range(cm.shape[1])):\n",
    "        plt.text(j, i, cm[i, j],\n",
    "                 horizontalalignment=\"center\",\n",
    "                 color=\"white\" if cm[i, j] > thresh else \"black\")\n",
    "\n",
    "    plt.tight_layout()\n",
    "    plt.ylabel('True label')\n",
    "    plt.xlabel('Predicted label')\n",
    "\n",
    "# Predict the values from the validation dataset\n",
    "predY = model.predict(testX)\n",
    "predYClasses = np.argmax(predY, axis = 1) \n",
    "trueY = np.argmax(testY, axis = 1) \n",
    "\n",
    "# confusion matrix\n",
    "confusionMTX = confusion_matrix(trueY, predYClasses) \n",
    "\n",
    "# plot the confusion matrix\n",
    "plot_confusion_matrix(confusionMTX, classes = le.classes_) "
   ]
  },
  {
   "cell_type": "markdown",
   "metadata": {},
   "source": [
    "1. # Results for Kaggle"
   ]
  },
  {
   "cell_type": "code",
   "execution_count": 31,
   "metadata": {},
   "outputs": [
    {
     "ename": "NameError",
     "evalue": "name 'testId' is not defined",
     "output_type": "error",
     "traceback": [
      "\u001b[0;31m---------------------------------------------------------------------------\u001b[0m",
      "\u001b[0;31mNameError\u001b[0m                                 Traceback (most recent call last)",
      "\u001b[0;32m<ipython-input-31-3050bef848ad>\u001b[0m in \u001b[0;36m<module>\u001b[0;34m()\u001b[0m\n\u001b[1;32m      3\u001b[0m \u001b[0mpredStr\u001b[0m \u001b[0;34m=\u001b[0m \u001b[0mle\u001b[0m\u001b[0;34m.\u001b[0m\u001b[0mclasses_\u001b[0m\u001b[0;34m[\u001b[0m\u001b[0mpredNum\u001b[0m\u001b[0;34m]\u001b[0m\u001b[0;34m\u001b[0m\u001b[0m\n\u001b[1;32m      4\u001b[0m \u001b[0;34m\u001b[0m\u001b[0m\n\u001b[0;32m----> 5\u001b[0;31m \u001b[0mres\u001b[0m \u001b[0;34m=\u001b[0m \u001b[0;34m{\u001b[0m\u001b[0;34m'file'\u001b[0m\u001b[0;34m:\u001b[0m \u001b[0mtestId\u001b[0m\u001b[0;34m,\u001b[0m \u001b[0;34m'species'\u001b[0m\u001b[0;34m:\u001b[0m \u001b[0mpredStr\u001b[0m\u001b[0;34m}\u001b[0m\u001b[0;34m\u001b[0m\u001b[0m\n\u001b[0m\u001b[1;32m      6\u001b[0m \u001b[0mres\u001b[0m \u001b[0;34m=\u001b[0m \u001b[0mpd\u001b[0m\u001b[0;34m.\u001b[0m\u001b[0mDataFrame\u001b[0m\u001b[0;34m(\u001b[0m\u001b[0mres\u001b[0m\u001b[0;34m)\u001b[0m\u001b[0;34m\u001b[0m\u001b[0m\n\u001b[1;32m      7\u001b[0m \u001b[0mres\u001b[0m\u001b[0;34m.\u001b[0m\u001b[0mto_csv\u001b[0m\u001b[0;34m(\u001b[0m\u001b[0;34m\"res.csv\"\u001b[0m\u001b[0;34m,\u001b[0m \u001b[0mindex\u001b[0m\u001b[0;34m=\u001b[0m\u001b[0;32mFalse\u001b[0m\u001b[0;34m)\u001b[0m\u001b[0;34m\u001b[0m\u001b[0m\n",
      "\u001b[0;31mNameError\u001b[0m: name 'testId' is not defined"
     ]
    }
   ],
   "source": [
    "# Write result to file\n",
    "predNum = np.argmax(predY, axis=1)\n",
    "predStr = le.classes_[predNum]\n",
    "\n",
    "res = {'file': testId, 'species': predStr}\n",
    "res = pd.DataFrame(res)\n",
    "res.to_csv(\"res.csv\", index=False)"
   ]
  },
  {
   "cell_type": "markdown",
   "metadata": {},
   "source": [
    "# Check Time"
   ]
  },
  {
   "cell_type": "code",
   "execution_count": 32,
   "metadata": {},
   "outputs": [
    {
     "name": "stdout",
     "output_type": "stream",
     "text": [
      "Total time 401 s.\n"
     ]
    }
   ],
   "source": [
    "end = dt.datetime.now()\n",
    "print('Total time {} s.'.format((end - start).seconds))"
   ]
  }
 ],
 "metadata": {
  "kernelspec": {
   "display_name": "Python 3",
   "language": "python",
   "name": "python3"
  },
  "language_info": {
   "codemirror_mode": {
    "name": "ipython",
    "version": 3
   },
   "file_extension": ".py",
   "mimetype": "text/x-python",
   "name": "python",
   "nbconvert_exporter": "python",
   "pygments_lexer": "ipython3",
   "version": "3.6.4"
  }
 },
 "nbformat": 4,
 "nbformat_minor": 1
}
